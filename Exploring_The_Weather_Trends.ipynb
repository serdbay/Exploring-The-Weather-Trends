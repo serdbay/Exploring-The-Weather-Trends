{
 "cells": [
  {
   "cell_type": "markdown",
   "metadata": {},
   "source": [
    "# Exploring The Weather Trends"
   ]
  },
  {
   "cell_type": "markdown",
   "metadata": {},
   "source": [
    "## Table of Contents\n",
    "<ul>\n",
    "<li><a href=\"#intro\">Introduction</a></li>\n",
    "<li><a href=\"#wrangling\">Data Wrangling</a></li>\n",
    "<li><a href=\"#eda\">Exploratory Data Analysis</a></li>\n",
    "<li><a href=\"#conclusions\">Conclusions</a></li>\n",
    "</ul>"
   ]
  },
  {
   "cell_type": "markdown",
   "metadata": {
    "tags": []
   },
   "source": [
    "<a id='intro'></a>\n",
    "## Introduction"
   ]
  },
  {
   "cell_type": "markdown",
   "metadata": {},
   "source": [
    "### Investigation Overview"
   ]
  },
  {
   "cell_type": "markdown",
   "metadata": {},
   "source": [
    "In this data analysis we will analyze and explore the weather trends between Istanbul' s average temperatures and global world average temperatures based on the years.\n",
    "\n",
    "We will create visualizations and prepare a write up describing the similarities and differences between global temperature trends and temperature trends in Istanbul. "
   ]
  },
  {
   "cell_type": "markdown",
   "metadata": {},
   "source": [
    "### Dataset Overview"
   ]
  },
  {
   "cell_type": "markdown",
   "metadata": {},
   "source": [
    "In this project we will be analyzing data associated with the weather trends. We will export the temperature data for the world as well as for the city of Istanbul."
   ]
  },
  {
   "cell_type": "markdown",
   "metadata": {},
   "source": [
    "#### Variable Descriptions "
   ]
  },
  {
   "cell_type": "markdown",
   "metadata": {},
   "source": [
    "Our dataset is including 5 variables.\n",
    "\n",
    "* year : The Year of The Weather \n",
    "* city : City To Be Analyzed \n",
    "* country : Country To Be Analyzed \n",
    "* city_avg_temp : Average Temperature Of The City \n",
    "* global_avg_temp : Global Average Temperature"
   ]
  },
  {
   "cell_type": "markdown",
   "metadata": {},
   "source": [
    "<a id='wrangling'></a>\n",
    "## Data Wrangling"
   ]
  },
  {
   "cell_type": "code",
   "execution_count": null,
   "metadata": {},
   "outputs": [
    {
     "data": {
      "application/com.datacamp.data-table.v1+json": {
       "is_truncated": false,
       "table": {
        "data": [
         {
          "city": "Istanbul",
          "city_avg_temp": 13.83,
          "country": "Turkey",
          "global_avg_temp": 8.72,
          "index": 0,
          "year": 1750
         },
         {
          "city": "Istanbul",
          "city_avg_temp": 14.14,
          "country": "Turkey",
          "global_avg_temp": 7.98,
          "index": 1,
          "year": 1751
         },
         {
          "city": "Istanbul",
          "city_avg_temp": 9.48,
          "country": "Turkey",
          "global_avg_temp": 5.78,
          "index": 2,
          "year": 1752
         },
         {
          "city": "Istanbul",
          "city_avg_temp": 13.42,
          "country": "Turkey",
          "global_avg_temp": 8.39,
          "index": 3,
          "year": 1753
         },
         {
          "city": "Istanbul",
          "city_avg_temp": 13.58,
          "country": "Turkey",
          "global_avg_temp": 8.47,
          "index": 4,
          "year": 1754
         }
        ],
        "schema": {
         "fields": [
          {
           "name": "index",
           "type": "integer"
          },
          {
           "name": "year",
           "type": "integer"
          },
          {
           "name": "city",
           "type": "string"
          },
          {
           "name": "country",
           "type": "string"
          },
          {
           "name": "city_avg_temp",
           "type": "number"
          },
          {
           "name": "global_avg_temp",
           "type": "number"
          }
         ],
         "pandas_version": "0.20.0",
         "primaryKey": [
          "index"
         ]
        }
       },
       "total_rows": 5
      },
      "text/html": [
       "<div>\n",
       "<style scoped>\n",
       "    .dataframe tbody tr th:only-of-type {\n",
       "        vertical-align: middle;\n",
       "    }\n",
       "\n",
       "    .dataframe tbody tr th {\n",
       "        vertical-align: top;\n",
       "    }\n",
       "\n",
       "    .dataframe thead th {\n",
       "        text-align: right;\n",
       "    }\n",
       "</style>\n",
       "<table border=\"1\" class=\"dataframe\">\n",
       "  <thead>\n",
       "    <tr style=\"text-align: right;\">\n",
       "      <th></th>\n",
       "      <th>year</th>\n",
       "      <th>city</th>\n",
       "      <th>country</th>\n",
       "      <th>city_avg_temp</th>\n",
       "      <th>global_avg_temp</th>\n",
       "    </tr>\n",
       "  </thead>\n",
       "  <tbody>\n",
       "    <tr>\n",
       "      <th>0</th>\n",
       "      <td>1750</td>\n",
       "      <td>Istanbul</td>\n",
       "      <td>Turkey</td>\n",
       "      <td>13.83</td>\n",
       "      <td>8.72</td>\n",
       "    </tr>\n",
       "    <tr>\n",
       "      <th>1</th>\n",
       "      <td>1751</td>\n",
       "      <td>Istanbul</td>\n",
       "      <td>Turkey</td>\n",
       "      <td>14.14</td>\n",
       "      <td>7.98</td>\n",
       "    </tr>\n",
       "    <tr>\n",
       "      <th>2</th>\n",
       "      <td>1752</td>\n",
       "      <td>Istanbul</td>\n",
       "      <td>Turkey</td>\n",
       "      <td>9.48</td>\n",
       "      <td>5.78</td>\n",
       "    </tr>\n",
       "    <tr>\n",
       "      <th>3</th>\n",
       "      <td>1753</td>\n",
       "      <td>Istanbul</td>\n",
       "      <td>Turkey</td>\n",
       "      <td>13.42</td>\n",
       "      <td>8.39</td>\n",
       "    </tr>\n",
       "    <tr>\n",
       "      <th>4</th>\n",
       "      <td>1754</td>\n",
       "      <td>Istanbul</td>\n",
       "      <td>Turkey</td>\n",
       "      <td>13.58</td>\n",
       "      <td>8.47</td>\n",
       "    </tr>\n",
       "  </tbody>\n",
       "</table>\n",
       "</div>"
      ],
      "text/plain": [
       "   year      city country  city_avg_temp  global_avg_temp\n",
       "0  1750  Istanbul  Turkey          13.83             8.72\n",
       "1  1751  Istanbul  Turkey          14.14             7.98\n",
       "2  1752  Istanbul  Turkey           9.48             5.78\n",
       "3  1753  Istanbul  Turkey          13.42             8.39\n",
       "4  1754  Istanbul  Turkey          13.58             8.47"
      ]
     },
     "execution_count": 1,
     "metadata": {},
     "output_type": "execute_result"
    }
   ],
   "source": [
    "import numpy as np\n",
    "import pandas as pd\n",
    "import matplotlib.pyplot as plt\n",
    "import seaborn as sns \n",
    "\n",
    "import warnings\n",
    "warnings.filterwarnings('ignore')\n",
    "\n",
    "data=pd.read_csv(r'weather_data.csv')\n",
    "data.head()"
   ]
  },
  {
   "cell_type": "code",
   "execution_count": null,
   "metadata": {},
   "outputs": [
    {
     "data": {
      "text/plain": [
       "year                 int64\n",
       "city                object\n",
       "country             object\n",
       "city_avg_temp      float64\n",
       "global_avg_temp    float64\n",
       "dtype: object"
      ]
     },
     "execution_count": 2,
     "metadata": {},
     "output_type": "execute_result"
    }
   ],
   "source": [
    "data.dtypes"
   ]
  },
  {
   "cell_type": "code",
   "execution_count": null,
   "metadata": {},
   "outputs": [
    {
     "data": {
      "application/com.datacamp.data-table.v1+json": {
       "is_truncated": false,
       "table": {
        "data": [
         {
          "city_avg_temp": 264,
          "global_avg_temp": 264,
          "index": "count",
          "year": 264
         },
         {
          "city_avg_temp": 13.5101893939,
          "global_avg_temp": 8.3593939394,
          "index": "mean",
          "year": 1881.5
         },
         {
          "city_avg_temp": 0.6999589628,
          "global_avg_temp": 0.5751842258,
          "index": "std",
          "year": 76.3544366753
         },
         {
          "city_avg_temp": 9.48,
          "global_avg_temp": 5.78,
          "index": "min",
          "year": 1750
         },
         {
          "city_avg_temp": 13.09,
          "global_avg_temp": 8.0775,
          "index": "25%",
          "year": 1815.75
         },
         {
          "city_avg_temp": 13.48,
          "global_avg_temp": 8.365,
          "index": "50%",
          "year": 1881.5
         },
         {
          "city_avg_temp": 13.95,
          "global_avg_temp": 8.7,
          "index": "75%",
          "year": 1947.25
         },
         {
          "city_avg_temp": 16.02,
          "global_avg_temp": 9.73,
          "index": "max",
          "year": 2013
         }
        ],
        "schema": {
         "fields": [
          {
           "name": "index",
           "type": "string"
          },
          {
           "name": "year",
           "type": "number"
          },
          {
           "name": "city_avg_temp",
           "type": "number"
          },
          {
           "name": "global_avg_temp",
           "type": "number"
          }
         ],
         "pandas_version": "0.20.0",
         "primaryKey": [
          "index"
         ]
        }
       },
       "total_rows": 8
      },
      "text/html": [
       "<div>\n",
       "<style scoped>\n",
       "    .dataframe tbody tr th:only-of-type {\n",
       "        vertical-align: middle;\n",
       "    }\n",
       "\n",
       "    .dataframe tbody tr th {\n",
       "        vertical-align: top;\n",
       "    }\n",
       "\n",
       "    .dataframe thead th {\n",
       "        text-align: right;\n",
       "    }\n",
       "</style>\n",
       "<table border=\"1\" class=\"dataframe\">\n",
       "  <thead>\n",
       "    <tr style=\"text-align: right;\">\n",
       "      <th></th>\n",
       "      <th>year</th>\n",
       "      <th>city_avg_temp</th>\n",
       "      <th>global_avg_temp</th>\n",
       "    </tr>\n",
       "  </thead>\n",
       "  <tbody>\n",
       "    <tr>\n",
       "      <th>count</th>\n",
       "      <td>264.000000</td>\n",
       "      <td>264.000000</td>\n",
       "      <td>264.000000</td>\n",
       "    </tr>\n",
       "    <tr>\n",
       "      <th>mean</th>\n",
       "      <td>1881.500000</td>\n",
       "      <td>13.510189</td>\n",
       "      <td>8.359394</td>\n",
       "    </tr>\n",
       "    <tr>\n",
       "      <th>std</th>\n",
       "      <td>76.354437</td>\n",
       "      <td>0.699959</td>\n",
       "      <td>0.575184</td>\n",
       "    </tr>\n",
       "    <tr>\n",
       "      <th>min</th>\n",
       "      <td>1750.000000</td>\n",
       "      <td>9.480000</td>\n",
       "      <td>5.780000</td>\n",
       "    </tr>\n",
       "    <tr>\n",
       "      <th>25%</th>\n",
       "      <td>1815.750000</td>\n",
       "      <td>13.090000</td>\n",
       "      <td>8.077500</td>\n",
       "    </tr>\n",
       "    <tr>\n",
       "      <th>50%</th>\n",
       "      <td>1881.500000</td>\n",
       "      <td>13.480000</td>\n",
       "      <td>8.365000</td>\n",
       "    </tr>\n",
       "    <tr>\n",
       "      <th>75%</th>\n",
       "      <td>1947.250000</td>\n",
       "      <td>13.950000</td>\n",
       "      <td>8.700000</td>\n",
       "    </tr>\n",
       "    <tr>\n",
       "      <th>max</th>\n",
       "      <td>2013.000000</td>\n",
       "      <td>16.020000</td>\n",
       "      <td>9.730000</td>\n",
       "    </tr>\n",
       "  </tbody>\n",
       "</table>\n",
       "</div>"
      ],
      "text/plain": [
       "              year  city_avg_temp  global_avg_temp\n",
       "count   264.000000     264.000000       264.000000\n",
       "mean   1881.500000      13.510189         8.359394\n",
       "std      76.354437       0.699959         0.575184\n",
       "min    1750.000000       9.480000         5.780000\n",
       "25%    1815.750000      13.090000         8.077500\n",
       "50%    1881.500000      13.480000         8.365000\n",
       "75%    1947.250000      13.950000         8.700000\n",
       "max    2013.000000      16.020000         9.730000"
      ]
     },
     "execution_count": 3,
     "metadata": {},
     "output_type": "execute_result"
    }
   ],
   "source": [
    "data.describe()"
   ]
  },
  {
   "cell_type": "markdown",
   "metadata": {},
   "source": [
    "<a id='eda'></a>\n",
    "\n",
    "## Exploratory Data Analysis"
   ]
  },
  {
   "cell_type": "code",
   "execution_count": null,
   "metadata": {
    "scrolled": true
   },
   "outputs": [
    {
     "data": {
      "application/com.datacamp.data-table.v1+json": {
       "is_truncated": false,
       "table": {
        "data": [
         {
          "city_avg_temp": 13.83,
          "global_avg_temp": 8.72,
          "year": 1750
         },
         {
          "city_avg_temp": 14.14,
          "global_avg_temp": 7.98,
          "year": 1751
         },
         {
          "city_avg_temp": 9.48,
          "global_avg_temp": 5.78,
          "year": 1752
         },
         {
          "city_avg_temp": 13.42,
          "global_avg_temp": 8.39,
          "year": 1753
         },
         {
          "city_avg_temp": 13.58,
          "global_avg_temp": 8.47,
          "year": 1754
         }
        ],
        "schema": {
         "fields": [
          {
           "name": "year",
           "type": "integer"
          },
          {
           "name": "city_avg_temp",
           "type": "number"
          },
          {
           "name": "global_avg_temp",
           "type": "number"
          }
         ],
         "pandas_version": "0.20.0",
         "primaryKey": [
          "year"
         ]
        }
       },
       "total_rows": 5
      },
      "text/html": [
       "<div>\n",
       "<style scoped>\n",
       "    .dataframe tbody tr th:only-of-type {\n",
       "        vertical-align: middle;\n",
       "    }\n",
       "\n",
       "    .dataframe tbody tr th {\n",
       "        vertical-align: top;\n",
       "    }\n",
       "\n",
       "    .dataframe thead th {\n",
       "        text-align: right;\n",
       "    }\n",
       "</style>\n",
       "<table border=\"1\" class=\"dataframe\">\n",
       "  <thead>\n",
       "    <tr style=\"text-align: right;\">\n",
       "      <th></th>\n",
       "      <th>city_avg_temp</th>\n",
       "      <th>global_avg_temp</th>\n",
       "    </tr>\n",
       "    <tr>\n",
       "      <th>year</th>\n",
       "      <th></th>\n",
       "      <th></th>\n",
       "    </tr>\n",
       "  </thead>\n",
       "  <tbody>\n",
       "    <tr>\n",
       "      <th>1750</th>\n",
       "      <td>13.83</td>\n",
       "      <td>8.72</td>\n",
       "    </tr>\n",
       "    <tr>\n",
       "      <th>1751</th>\n",
       "      <td>14.14</td>\n",
       "      <td>7.98</td>\n",
       "    </tr>\n",
       "    <tr>\n",
       "      <th>1752</th>\n",
       "      <td>9.48</td>\n",
       "      <td>5.78</td>\n",
       "    </tr>\n",
       "    <tr>\n",
       "      <th>1753</th>\n",
       "      <td>13.42</td>\n",
       "      <td>8.39</td>\n",
       "    </tr>\n",
       "    <tr>\n",
       "      <th>1754</th>\n",
       "      <td>13.58</td>\n",
       "      <td>8.47</td>\n",
       "    </tr>\n",
       "  </tbody>\n",
       "</table>\n",
       "</div>"
      ],
      "text/plain": [
       "      city_avg_temp  global_avg_temp\n",
       "year                                \n",
       "1750          13.83             8.72\n",
       "1751          14.14             7.98\n",
       "1752           9.48             5.78\n",
       "1753          13.42             8.39\n",
       "1754          13.58             8.47"
      ]
     },
     "execution_count": 4,
     "metadata": {},
     "output_type": "execute_result"
    }
   ],
   "source": [
    "df = data[['year','city_avg_temp','global_avg_temp']]\n",
    "df.set_index('year',inplace=True)\n",
    "df.head()"
   ]
  },
  {
   "cell_type": "markdown",
   "metadata": {},
   "source": [
    "Defining The DataFrames Of Istanbul & Global Temperature"
   ]
  },
  {
   "cell_type": "code",
   "execution_count": null,
   "metadata": {},
   "outputs": [
    {
     "data": {
      "application/com.datacamp.data-table.v1+json": {
       "is_truncated": false,
       "table": {
        "data": [
         {
          "city_avg_temp": null,
          "year": 1750
         },
         {
          "city_avg_temp": null,
          "year": 1751
         },
         {
          "city_avg_temp": null,
          "year": 1752
         },
         {
          "city_avg_temp": null,
          "year": 1753
         },
         {
          "city_avg_temp": null,
          "year": 1754
         }
        ],
        "schema": {
         "fields": [
          {
           "name": "year",
           "type": "integer"
          },
          {
           "name": "city_avg_temp",
           "type": "number"
          }
         ],
         "pandas_version": "0.20.0",
         "primaryKey": [
          "year"
         ]
        }
       },
       "total_rows": 5
      },
      "text/html": [
       "<div>\n",
       "<style scoped>\n",
       "    .dataframe tbody tr th:only-of-type {\n",
       "        vertical-align: middle;\n",
       "    }\n",
       "\n",
       "    .dataframe tbody tr th {\n",
       "        vertical-align: top;\n",
       "    }\n",
       "\n",
       "    .dataframe thead th {\n",
       "        text-align: right;\n",
       "    }\n",
       "</style>\n",
       "<table border=\"1\" class=\"dataframe\">\n",
       "  <thead>\n",
       "    <tr style=\"text-align: right;\">\n",
       "      <th></th>\n",
       "      <th>city_avg_temp</th>\n",
       "    </tr>\n",
       "    <tr>\n",
       "      <th>year</th>\n",
       "      <th></th>\n",
       "    </tr>\n",
       "  </thead>\n",
       "  <tbody>\n",
       "    <tr>\n",
       "      <th>1750</th>\n",
       "      <td>NaN</td>\n",
       "    </tr>\n",
       "    <tr>\n",
       "      <th>1751</th>\n",
       "      <td>NaN</td>\n",
       "    </tr>\n",
       "    <tr>\n",
       "      <th>1752</th>\n",
       "      <td>NaN</td>\n",
       "    </tr>\n",
       "    <tr>\n",
       "      <th>1753</th>\n",
       "      <td>NaN</td>\n",
       "    </tr>\n",
       "    <tr>\n",
       "      <th>1754</th>\n",
       "      <td>NaN</td>\n",
       "    </tr>\n",
       "  </tbody>\n",
       "</table>\n",
       "</div>"
      ],
      "text/plain": [
       "      city_avg_temp\n",
       "year               \n",
       "1750            NaN\n",
       "1751            NaN\n",
       "1752            NaN\n",
       "1753            NaN\n",
       "1754            NaN"
      ]
     },
     "execution_count": 5,
     "metadata": {},
     "output_type": "execute_result"
    }
   ],
   "source": [
    "#Defining array to use and number of previous periods to use in calculation \n",
    "df_city_mov_avg=df['city_avg_temp']\n",
    "\n",
    "n=10 #years/period\n",
    "#Calculating the moving average\n",
    "df1=pd.Series(df_city_mov_avg).rolling(window=n).mean().to_frame()\n",
    "df1.head()"
   ]
  },
  {
   "cell_type": "code",
   "execution_count": null,
   "metadata": {
    "scrolled": true
   },
   "outputs": [
    {
     "data": {
      "application/com.datacamp.data-table.v1+json": {
       "is_truncated": false,
       "table": {
        "data": [
         {
          "global_avg_temp": null,
          "year": 1750
         },
         {
          "global_avg_temp": null,
          "year": 1751
         },
         {
          "global_avg_temp": null,
          "year": 1752
         },
         {
          "global_avg_temp": null,
          "year": 1753
         },
         {
          "global_avg_temp": null,
          "year": 1754
         }
        ],
        "schema": {
         "fields": [
          {
           "name": "year",
           "type": "integer"
          },
          {
           "name": "global_avg_temp",
           "type": "number"
          }
         ],
         "pandas_version": "0.20.0",
         "primaryKey": [
          "year"
         ]
        }
       },
       "total_rows": 5
      },
      "text/html": [
       "<div>\n",
       "<style scoped>\n",
       "    .dataframe tbody tr th:only-of-type {\n",
       "        vertical-align: middle;\n",
       "    }\n",
       "\n",
       "    .dataframe tbody tr th {\n",
       "        vertical-align: top;\n",
       "    }\n",
       "\n",
       "    .dataframe thead th {\n",
       "        text-align: right;\n",
       "    }\n",
       "</style>\n",
       "<table border=\"1\" class=\"dataframe\">\n",
       "  <thead>\n",
       "    <tr style=\"text-align: right;\">\n",
       "      <th></th>\n",
       "      <th>global_avg_temp</th>\n",
       "    </tr>\n",
       "    <tr>\n",
       "      <th>year</th>\n",
       "      <th></th>\n",
       "    </tr>\n",
       "  </thead>\n",
       "  <tbody>\n",
       "    <tr>\n",
       "      <th>1750</th>\n",
       "      <td>NaN</td>\n",
       "    </tr>\n",
       "    <tr>\n",
       "      <th>1751</th>\n",
       "      <td>NaN</td>\n",
       "    </tr>\n",
       "    <tr>\n",
       "      <th>1752</th>\n",
       "      <td>NaN</td>\n",
       "    </tr>\n",
       "    <tr>\n",
       "      <th>1753</th>\n",
       "      <td>NaN</td>\n",
       "    </tr>\n",
       "    <tr>\n",
       "      <th>1754</th>\n",
       "      <td>NaN</td>\n",
       "    </tr>\n",
       "  </tbody>\n",
       "</table>\n",
       "</div>"
      ],
      "text/plain": [
       "      global_avg_temp\n",
       "year                 \n",
       "1750              NaN\n",
       "1751              NaN\n",
       "1752              NaN\n",
       "1753              NaN\n",
       "1754              NaN"
      ]
     },
     "execution_count": 6,
     "metadata": {},
     "output_type": "execute_result"
    }
   ],
   "source": [
    "#Defining array to use and number of previous periods to use in calculation \n",
    "df_global_mov_avg=df['global_avg_temp']\n",
    "\n",
    "n=10 #years/period\n",
    "#Calculating moving average\n",
    "df2=pd.Series(df_global_mov_avg).rolling(window=n).mean().to_frame()\n",
    "df2.head()"
   ]
  },
  {
   "cell_type": "markdown",
   "metadata": {},
   "source": [
    "Combining The DataFrames Of Istanbul and Global Temperature"
   ]
  },
  {
   "cell_type": "code",
   "execution_count": null,
   "metadata": {},
   "outputs": [
    {
     "data": {
      "application/com.datacamp.data-table.v1+json": {
       "is_truncated": false,
       "table": {
        "data": [
         {
          "city_avg_temp": null,
          "global_avg_temp": null,
          "year": 1750
         },
         {
          "city_avg_temp": null,
          "global_avg_temp": null,
          "year": 1751
         },
         {
          "city_avg_temp": null,
          "global_avg_temp": null,
          "year": 1752
         },
         {
          "city_avg_temp": null,
          "global_avg_temp": null,
          "year": 1753
         },
         {
          "city_avg_temp": null,
          "global_avg_temp": null,
          "year": 1754
         }
        ],
        "schema": {
         "fields": [
          {
           "name": "year",
           "type": "integer"
          },
          {
           "name": "city_avg_temp",
           "type": "number"
          },
          {
           "name": "global_avg_temp",
           "type": "number"
          }
         ],
         "pandas_version": "0.20.0",
         "primaryKey": [
          "year"
         ]
        }
       },
       "total_rows": 5
      },
      "text/html": [
       "<div>\n",
       "<style scoped>\n",
       "    .dataframe tbody tr th:only-of-type {\n",
       "        vertical-align: middle;\n",
       "    }\n",
       "\n",
       "    .dataframe tbody tr th {\n",
       "        vertical-align: top;\n",
       "    }\n",
       "\n",
       "    .dataframe thead th {\n",
       "        text-align: right;\n",
       "    }\n",
       "</style>\n",
       "<table border=\"1\" class=\"dataframe\">\n",
       "  <thead>\n",
       "    <tr style=\"text-align: right;\">\n",
       "      <th></th>\n",
       "      <th>city_avg_temp</th>\n",
       "      <th>global_avg_temp</th>\n",
       "    </tr>\n",
       "    <tr>\n",
       "      <th>year</th>\n",
       "      <th></th>\n",
       "      <th></th>\n",
       "    </tr>\n",
       "  </thead>\n",
       "  <tbody>\n",
       "    <tr>\n",
       "      <th>1750</th>\n",
       "      <td>NaN</td>\n",
       "      <td>NaN</td>\n",
       "    </tr>\n",
       "    <tr>\n",
       "      <th>1751</th>\n",
       "      <td>NaN</td>\n",
       "      <td>NaN</td>\n",
       "    </tr>\n",
       "    <tr>\n",
       "      <th>1752</th>\n",
       "      <td>NaN</td>\n",
       "      <td>NaN</td>\n",
       "    </tr>\n",
       "    <tr>\n",
       "      <th>1753</th>\n",
       "      <td>NaN</td>\n",
       "      <td>NaN</td>\n",
       "    </tr>\n",
       "    <tr>\n",
       "      <th>1754</th>\n",
       "      <td>NaN</td>\n",
       "      <td>NaN</td>\n",
       "    </tr>\n",
       "  </tbody>\n",
       "</table>\n",
       "</div>"
      ],
      "text/plain": [
       "      city_avg_temp  global_avg_temp\n",
       "year                                \n",
       "1750            NaN              NaN\n",
       "1751            NaN              NaN\n",
       "1752            NaN              NaN\n",
       "1753            NaN              NaN\n",
       "1754            NaN              NaN"
      ]
     },
     "execution_count": 7,
     "metadata": {},
     "output_type": "execute_result"
    }
   ],
   "source": [
    "df_last = pd.concat([df1, df2],axis=1)\n",
    "df_last.head()"
   ]
  },
  {
   "cell_type": "code",
   "execution_count": null,
   "metadata": {},
   "outputs": [
    {
     "data": {
      "text/plain": [
       "city_avg_temp      9\n",
       "global_avg_temp    9\n",
       "dtype: int64"
      ]
     },
     "execution_count": 8,
     "metadata": {},
     "output_type": "execute_result"
    }
   ],
   "source": [
    "df_last.isna().sum()"
   ]
  },
  {
   "cell_type": "code",
   "execution_count": null,
   "metadata": {},
   "outputs": [
    {
     "data": {
      "text/plain": [
       "city_avg_temp      0\n",
       "global_avg_temp    0\n",
       "dtype: int64"
      ]
     },
     "execution_count": 9,
     "metadata": {},
     "output_type": "execute_result"
    }
   ],
   "source": [
    "df_last=df_last.dropna()\n",
    "df_last.isna().sum()"
   ]
  },
  {
   "cell_type": "code",
   "execution_count": null,
   "metadata": {},
   "outputs": [
    {
     "data": {
      "text/plain": [
       "False"
      ]
     },
     "execution_count": 10,
     "metadata": {},
     "output_type": "execute_result"
    }
   ],
   "source": [
    "df_last.duplicated().any()"
   ]
  },
  {
   "cell_type": "markdown",
   "metadata": {},
   "source": [
    "Plotting The Trends Of The Temperatures"
   ]
  },
  {
   "cell_type": "code",
   "execution_count": null,
   "metadata": {},
   "outputs": [
    {
     "data": {
      "application/com.datacamp.data-table.v1+json": {
       "is_truncated": false,
       "table": {
        "data": [
         {
          "Global Average Temperature": 8.03,
          "Istanbul Average Temperature": 13.104,
          "year": 1759
         },
         {
          "Global Average Temperature": 7.877,
          "Istanbul Average Temperature": 12.978,
          "year": 1760
         },
         {
          "Global Average Temperature": 7.956,
          "Istanbul Average Temperature": 12.94,
          "year": 1761
         },
         {
          "Global Average Temperature": 8.239,
          "Istanbul Average Temperature": 13.358,
          "year": 1762
         },
         {
          "Global Average Temperature": 8.15,
          "Istanbul Average Temperature": 13.288,
          "year": 1763
         }
        ],
        "schema": {
         "fields": [
          {
           "name": "year",
           "type": "integer"
          },
          {
           "name": "Istanbul Average Temperature",
           "type": "number"
          },
          {
           "name": "Global Average Temperature",
           "type": "number"
          }
         ],
         "pandas_version": "0.20.0",
         "primaryKey": [
          "year"
         ]
        }
       },
       "total_rows": 5
      },
      "text/html": [
       "<div>\n",
       "<style scoped>\n",
       "    .dataframe tbody tr th:only-of-type {\n",
       "        vertical-align: middle;\n",
       "    }\n",
       "\n",
       "    .dataframe tbody tr th {\n",
       "        vertical-align: top;\n",
       "    }\n",
       "\n",
       "    .dataframe thead th {\n",
       "        text-align: right;\n",
       "    }\n",
       "</style>\n",
       "<table border=\"1\" class=\"dataframe\">\n",
       "  <thead>\n",
       "    <tr style=\"text-align: right;\">\n",
       "      <th></th>\n",
       "      <th>Istanbul Average Temperature</th>\n",
       "      <th>Global Average Temperature</th>\n",
       "    </tr>\n",
       "    <tr>\n",
       "      <th>year</th>\n",
       "      <th></th>\n",
       "      <th></th>\n",
       "    </tr>\n",
       "  </thead>\n",
       "  <tbody>\n",
       "    <tr>\n",
       "      <th>1759</th>\n",
       "      <td>13.104</td>\n",
       "      <td>8.030</td>\n",
       "    </tr>\n",
       "    <tr>\n",
       "      <th>1760</th>\n",
       "      <td>12.978</td>\n",
       "      <td>7.877</td>\n",
       "    </tr>\n",
       "    <tr>\n",
       "      <th>1761</th>\n",
       "      <td>12.940</td>\n",
       "      <td>7.956</td>\n",
       "    </tr>\n",
       "    <tr>\n",
       "      <th>1762</th>\n",
       "      <td>13.358</td>\n",
       "      <td>8.239</td>\n",
       "    </tr>\n",
       "    <tr>\n",
       "      <th>1763</th>\n",
       "      <td>13.288</td>\n",
       "      <td>8.150</td>\n",
       "    </tr>\n",
       "  </tbody>\n",
       "</table>\n",
       "</div>"
      ],
      "text/plain": [
       "      Istanbul Average Temperature  Global Average Temperature\n",
       "year                                                          \n",
       "1759                        13.104                       8.030\n",
       "1760                        12.978                       7.877\n",
       "1761                        12.940                       7.956\n",
       "1762                        13.358                       8.239\n",
       "1763                        13.288                       8.150"
      ]
     },
     "execution_count": 11,
     "metadata": {},
     "output_type": "execute_result"
    }
   ],
   "source": [
    "df_last.rename(columns={'city_avg_temp':'Istanbul Average Temperature','global_avg_temp':'Global Average Temperature'},inplace=True)\n",
    "df_last.head()"
   ]
  },
  {
   "cell_type": "code",
   "execution_count": null,
   "metadata": {},
   "outputs": [
    {
     "data": {
      "image/png": "[encoded data removed]",
      "text/plain": [
       "<Figure size 936x360 with 1 Axes>"
      ]
     },
     "metadata": {
      "needs_background": "light"
     },
     "output_type": "display_data"
    }
   ],
   "source": [
    "df_last.plot(kind='line',figsize=(13,5)) #plotting with moving average                     \n",
    "plt.title('Global and Istanbul 10-year Moving Average Temperature Between 1759-2013')\n",
    "plt.xlabel('Year')\n",
    "plt.ylabel('Temperature °C')\n",
    "plt.annotate('Average Temperature Trend', #we will display text in here\n",
    "             xy=(1988,10),                    \n",
    "             rotation=49,                     \n",
    "             va='bottom',                    \n",
    "             ha='left',)                                 \n",
    "plt.annotate('',                          #we will display arrow in here \n",
    "             xy=(2025, 12),           \n",
    "             xytext=(2005, 10),         \n",
    "             xycoords='data',\n",
    "             arrowprops=dict(arrowstyle='->', connectionstyle='arc3', color='blue', lw=2))      \n",
    "plt.legend(loc='best')\n",
    "plt.show()"
   ]
  },
  {
   "cell_type": "markdown",
   "metadata": {},
   "source": [
    "Exploring The Correlation Between Istanbul and Global Temperature "
   ]
  },
  {
   "cell_type": "code",
   "execution_count": null,
   "metadata": {
    "scrolled": true
   },
   "outputs": [
    {
     "data": {
      "application/com.datacamp.data-table.v1+json": {
       "is_truncated": false,
       "table": {
        "data": [
         {
          "Global Average Temperature": 0.9067849427,
          "Istanbul Average Temperature": 1,
          "index": "Istanbul Average Temperature"
         },
         {
          "Global Average Temperature": 1,
          "Istanbul Average Temperature": 0.9067849427,
          "index": "Global Average Temperature"
         }
        ],
        "schema": {
         "fields": [
          {
           "name": "index",
           "type": "string"
          },
          {
           "name": "Istanbul Average Temperature",
           "type": "number"
          },
          {
           "name": "Global Average Temperature",
           "type": "number"
          }
         ],
         "pandas_version": "0.20.0",
         "primaryKey": [
          "index"
         ]
        }
       },
       "total_rows": 2
      },
      "text/html": [
       "<div>\n",
       "<style scoped>\n",
       "    .dataframe tbody tr th:only-of-type {\n",
       "        vertical-align: middle;\n",
       "    }\n",
       "\n",
       "    .dataframe tbody tr th {\n",
       "        vertical-align: top;\n",
       "    }\n",
       "\n",
       "    .dataframe thead th {\n",
       "        text-align: right;\n",
       "    }\n",
       "</style>\n",
       "<table border=\"1\" class=\"dataframe\">\n",
       "  <thead>\n",
       "    <tr style=\"text-align: right;\">\n",
       "      <th></th>\n",
       "      <th>Istanbul Average Temperature</th>\n",
       "      <th>Global Average Temperature</th>\n",
       "    </tr>\n",
       "  </thead>\n",
       "  <tbody>\n",
       "    <tr>\n",
       "      <th>Istanbul Average Temperature</th>\n",
       "      <td>1.000000</td>\n",
       "      <td>0.906785</td>\n",
       "    </tr>\n",
       "    <tr>\n",
       "      <th>Global Average Temperature</th>\n",
       "      <td>0.906785</td>\n",
       "      <td>1.000000</td>\n",
       "    </tr>\n",
       "  </tbody>\n",
       "</table>\n",
       "</div>"
      ],
      "text/plain": [
       "                              Istanbul Average Temperature  \\\n",
       "Istanbul Average Temperature                      1.000000   \n",
       "Global Average Temperature                        0.906785   \n",
       "\n",
       "                              Global Average Temperature  \n",
       "Istanbul Average Temperature                    0.906785  \n",
       "Global Average Temperature                      1.000000  "
      ]
     },
     "execution_count": 13,
     "metadata": {},
     "output_type": "execute_result"
    }
   ],
   "source": [
    "df_corr=df_last[['Istanbul Average Temperature','Global Average Temperature']].corr(method='pearson')\n",
    "df_corr"
   ]
  },
  {
   "cell_type": "code",
   "execution_count": null,
   "metadata": {},
   "outputs": [],
   "source": [
    "import scipy as sp\n",
    "from scipy import stats"
   ]
  },
  {
   "cell_type": "code",
   "execution_count": null,
   "metadata": {},
   "outputs": [
    {
     "name": "stdout",
     "output_type": "stream",
     "text": [
      "The Pearson Correlation Coefficient is 0.9067849426585403  with a P-value of P = 6.922034507745536e-97\n"
     ]
    }
   ],
   "source": [
    "pearson_coef, p_value = stats.pearsonr(df_last['Global Average Temperature'], \n",
    "                                       df_last['Istanbul Average Temperature'])\n",
    "print (\"The Pearson Correlation Coefficient is\", \n",
    "       pearson_coef, \" with a P-value of P =\", p_value)  \n",
    "\n",
    "#Since the p-value is  <  0.001, the correlation between these variables \n",
    "#are statistically significant.\n",
    "\n",
    "#Additionaly, we can see that the linear relationship is very strong too with the pearson \n",
    "#correlation coefficient value. (~0.91)."
   ]
  },
  {
   "cell_type": "code",
   "execution_count": null,
   "metadata": {},
   "outputs": [
    {
     "data": {
      "text/plain": [
       "[Text(0, 0.5, 'Istanbul Average Temperature'),\n",
       " Text(0, 1.5, 'Global Average Temperature')]"
      ]
     },
     "execution_count": 26,
     "metadata": {},
     "output_type": "execute_result"
    },
    {
     "data": {
      "image/png": "[encoded data removed]",
      "text/plain": [
       "<Figure size 648x360 with 2 Axes>"
      ]
     },
     "metadata": {
      "needs_background": "light"
     },
     "output_type": "display_data"
    }
   ],
   "source": [
    "#We can see the correlation between Istanbul and global temperature with a heatmap clearly in here too :\n",
    "plt.figure(figsize=(9,5))\n",
    "g=sns.heatmap(df_corr,xticklabels=df_corr.columns,yticklabels=\n",
    "            df_corr.columns,cmap='RdBu_r',annot=True, linewidth=0.63)\n",
    "\n",
    "g.set_xticklabels(g.get_xticklabels(), rotation=0, horizontalalignment='center')\n",
    "g.set_yticklabels(g.get_yticklabels(), rotation=0, horizontalalignment='right')"
   ]
  },
  {
   "cell_type": "markdown",
   "metadata": {},
   "source": [
    "Making Predictions About The Temperatures Of Istanbul & Global "
   ]
  },
  {
   "cell_type": "code",
   "execution_count": null,
   "metadata": {},
   "outputs": [
    {
     "data": {
      "image/png": "[encoded data removed]",
      "text/plain": [
       "<Figure size 648x360 with 1 Axes>"
      ]
     },
     "metadata": {
      "needs_background": "light"
     },
     "output_type": "display_data"
    }
   ],
   "source": [
    "plt.figure(figsize=(9, 5))\n",
    "sns.residplot(df_last['Istanbul Average Temperature'], df_last['Global Average Temperature'])\n",
    "plt.show()\n",
    "\n",
    "#I used residual plot in here whether or not to see the linear model is appropriate or not.\n",
    "#As you can see the data is randomly spread out around the x-axis, \n",
    "#then we can say that a linear model is appropriate for our prediction. "
   ]
  },
  {
   "cell_type": "markdown",
   "metadata": {},
   "source": [
    "Creating Linear Regression"
   ]
  },
  {
   "cell_type": "code",
   "execution_count": null,
   "metadata": {},
   "outputs": [
    {
     "data": {
      "text/plain": [
       "array([7.93725478, 7.80499691, 7.76510962, 8.20386983, 8.13039324])"
      ]
     },
     "execution_count": 18,
     "metadata": {},
     "output_type": "execute_result"
    }
   ],
   "source": [
    "from sklearn.linear_model import LinearRegression\n",
    "lm=LinearRegression()\n",
    "\n",
    "X=df_last[['Istanbul Average Temperature']]\n",
    "Y=df_last['Global Average Temperature']\n",
    "#Y is our prediction. When we see a temperature of the city(Istanbul) we will then predict the temperature of the global.\n",
    "\n",
    "lm.fit(X,Y)\n",
    "Yhat=lm.predict(X)\n",
    "Yhat[0:5]   "
   ]
  },
  {
   "cell_type": "code",
   "execution_count": null,
   "metadata": {},
   "outputs": [
    {
     "data": {
      "text/plain": [
       "(-5.817563030620066, array([1.04966558]))"
      ]
     },
     "execution_count": 19,
     "metadata": {},
     "output_type": "execute_result"
    }
   ],
   "source": [
    "lm.intercept_,lm.coef_ #We calculated the intercept and the coefficient in here for our temperature prediction. "
   ]
  },
  {
   "cell_type": "markdown",
   "metadata": {},
   "source": [
    "The Final Estimated Linear Model We Get To Calculate Temperature "
   ]
  },
  {
   "cell_type": "markdown",
   "metadata": {},
   "source": [
    "So we get a final linear model with the structure of 𝑌ℎ𝑎𝑡=𝑎+𝑏𝑋.\n",
    "\n",
    "Therefore we can say that our \"Global Average Temperature = (Istanbul Average Temperature)*1.04 - 5.817\"."
   ]
  },
  {
   "cell_type": "markdown",
   "metadata": {},
   "source": [
    "<a id='conclusions'></a>\n",
    "## Conclusions"
   ]
  },
  {
   "cell_type": "markdown",
   "metadata": {},
   "source": [
    "Based on the observations about the weather trends we analyzed we inferred some implications."
   ]
  },
  {
   "cell_type": "markdown",
   "metadata": {},
   "source": [
    "First of all, it is seen that the temperature of the Istanbul is generally warmer than the global temperature and it keeps increasing. But between 1800-1850 we can see a drop in both side. Especially Istanbul's temperature drop between that period of time is eye-catching. Although Istanbul's temperature increased rapidly at the beginning of the 2000s,the global temperature increased at a lower rate.\n",
    "\n",
    "In addition, it is seen that the temperature has increased by approximately 2-3 degrees. Plus, the general temperature is observed to increase on average especially after 1850s. Looking at the correlation diagram we can quickly see that the global temperature is strongly correlated to the Istanbul's temperature too. And generally we can say that in both the temperature period of increasing or decreasing looks similarly parallel.\n",
    "\n",
    "At the end when we see our linear model with the structure of Global Temperature = (Istanbul Temperature)*1.04 - 5.817 and thereby we can estimate the temperatures of the weathers based on our linear model calcultions for the future too."
   ]
  },
  {
   "cell_type": "code",
   "execution_count": null,
   "metadata": {},
   "outputs": [],
   "source": []
  }
 ],
 "metadata": {
  "kernelspec": {
   "display_name": "Python 3 (ipykernel)",
   "language": "python",
   "name": "python3"
  },
  "language_info": {
   "codemirror_mode": {
    "name": "ipython",
    "version": 3
   },
   "file_extension": ".py",
   "mimetype": "text/x-python",
   "name": "python",
   "nbconvert_exporter": "python",
   "pygments_lexer": "ipython3",
   "version": "3.8.10"
  }
 },
 "nbformat": 4,
 "nbformat_minor": 4
}
